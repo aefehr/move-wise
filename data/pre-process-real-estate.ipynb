{
 "cells": [
  {
   "cell_type": "code",
   "execution_count": 3,
   "metadata": {},
   "outputs": [],
   "source": [
    "import pandas as pd"
   ]
  },
  {
   "cell_type": "code",
   "execution_count": 2,
   "metadata": {},
   "outputs": [],
   "source": [
    "df = pd.read_csv(\"real-estate-listings.csv\")"
   ]
  },
  {
   "cell_type": "code",
   "execution_count": 3,
   "metadata": {},
   "outputs": [],
   "source": [
    "# Remove the 'id' column\n",
    "df = df.drop(columns=['id'])"
   ]
  },
  {
   "cell_type": "code",
   "execution_count": 4,
   "metadata": {},
   "outputs": [
    {
     "name": "stdout",
     "output_type": "stream",
     "text": [
      "     status  bed  bath  acre_lot        city        state  zip_code  \\\n",
      "0  for_sale    3     2      0.12    Adjuntas  Puerto Rico       601   \n",
      "1  for_sale    4     2      0.08    Adjuntas  Puerto Rico       601   \n",
      "2  for_sale    2     1      0.15  Juana Diaz  Puerto Rico       795   \n",
      "3  for_sale    4     2      0.10       Ponce  Puerto Rico       731   \n",
      "4  for_sale    6     2      0.05    Mayaguez  Puerto Rico       680   \n",
      "\n",
      "   house_size prev_sold_date   price  \n",
      "0         920            NaN  105000  \n",
      "1        1527            NaN   80000  \n",
      "2         748            NaN   67000  \n",
      "3        1800            NaN  145000  \n",
      "4           0            NaN   65000  \n"
     ]
    }
   ],
   "source": [
    "# List of columns to convert to integers\n",
    "columns_to_convert = ['bed', 'bath', 'zip_code', 'house_size', 'price']\n",
    "\n",
    "# Convert specified columns to integer, handling non-null values correctly\n",
    "for column in columns_to_convert:\n",
    "    # Remove decimals by converting to integers for non-null values\n",
    "    df[column] = pd.to_numeric(df[column], errors='coerce').fillna(0).astype(int)\n",
    "\n",
    "print(df.head())"
   ]
  },
  {
   "cell_type": "code",
   "execution_count": 5,
   "metadata": {},
   "outputs": [],
   "source": [
    "# Remove rows where 'price' is zero (which originally were NaNs and got converted to zero)\n",
    "df = df[df['price'] != 0]"
   ]
  },
  {
   "cell_type": "code",
   "execution_count": 6,
   "metadata": {},
   "outputs": [],
   "source": [
    "# Remove null rows \n",
    "df = df.dropna(subset=['city', 'state', 'acre_lot'])"
   ]
  },
  {
   "cell_type": "code",
   "execution_count": 7,
   "metadata": {},
   "outputs": [],
   "source": [
    "# Remove rows where 'house_size' is 0\n",
    "df = df[df['house_size'] != 0]"
   ]
  },
  {
   "cell_type": "code",
   "execution_count": 8,
   "metadata": {},
   "outputs": [
    {
     "name": "stdout",
     "output_type": "stream",
     "text": [
      "     status  bed  bath  acre_lot           city        state  zip_code  \\\n",
      "0  for_sale    3     2      0.12       Adjuntas  Puerto Rico       601   \n",
      "1  for_sale    4     2      0.08       Adjuntas  Puerto Rico       601   \n",
      "2  for_sale    2     1      0.15     Juana Diaz  Puerto Rico       795   \n",
      "3  for_sale    4     2      0.10          Ponce  Puerto Rico       731   \n",
      "5  for_sale    4     3      0.46  San Sebastian  Puerto Rico       612   \n",
      "\n",
      "   house_size prev_sold_date   price  \n",
      "0         920            NaN  105000  \n",
      "1        1527            NaN   80000  \n",
      "2         748            NaN   67000  \n",
      "3        1800            NaN  145000  \n",
      "5        2520            NaN  179000  \n"
     ]
    }
   ],
   "source": [
    "# Remove rows where 'zip_code' or 'bed' or 'bath' is 0\n",
    "df = df[(df['zip_code'] != 0) & (df['bath'] != 0) & (df['bed'] != 0)]\n",
    "\n",
    "print(df.head())"
   ]
  },
  {
   "cell_type": "code",
   "execution_count": 9,
   "metadata": {},
   "outputs": [
    {
     "name": "stdout",
     "output_type": "stream",
     "text": [
      "   bed  bath  acre_lot           city        state  zip_code  house_size  \\\n",
      "0    3     2      0.12       Adjuntas  Puerto Rico       601         920   \n",
      "1    4     2      0.08       Adjuntas  Puerto Rico       601        1527   \n",
      "2    2     1      0.15     Juana Diaz  Puerto Rico       795         748   \n",
      "3    4     2      0.10          Ponce  Puerto Rico       731        1800   \n",
      "5    4     3      0.46  San Sebastian  Puerto Rico       612        2520   \n",
      "\n",
      "    price  \n",
      "0  105000  \n",
      "1   80000  \n",
      "2   67000  \n",
      "3  145000  \n",
      "5  179000  \n"
     ]
    }
   ],
   "source": [
    "df = df.drop(columns=['status', 'prev_sold_date'])\n",
    "\n",
    "print(df.head())"
   ]
  },
  {
   "cell_type": "code",
   "execution_count": 10,
   "metadata": {},
   "outputs": [
    {
     "name": "stdout",
     "output_type": "stream",
     "text": [
      "   bed  bath  acre_lot           city        state  zip_code  house_size  \\\n",
      "0    3     2      0.12       adjuntas  puerto rico       601         920   \n",
      "1    4     2      0.08       adjuntas  puerto rico       601        1527   \n",
      "2    2     1      0.15     juana diaz  puerto rico       795         748   \n",
      "3    4     2      0.10          ponce  puerto rico       731        1800   \n",
      "5    4     3      0.46  san sebastian  puerto rico       612        2520   \n",
      "\n",
      "    price  \n",
      "0  105000  \n",
      "1   80000  \n",
      "2   67000  \n",
      "3  145000  \n",
      "5  179000  \n"
     ]
    }
   ],
   "source": [
    "# Convert 'city' and 'state' columns to lowercase\n",
    "df['city'] = df['city'].str.lower()\n",
    "df['state'] = df['state'].str.lower()\n",
    "\n",
    "print(df.head())"
   ]
  },
  {
   "cell_type": "code",
   "execution_count": 11,
   "metadata": {},
   "outputs": [
    {
     "name": "stdout",
     "output_type": "stream",
     "text": [
      "       bed  bath  acre_lot    city          state  zip_code  house_size  \\\n",
      "24201    2     1      0.34  agawam  massachusetts      1001         676   \n",
      "24206    3     1      0.46  agawam  massachusetts      1001        1196   \n",
      "24207    3     3      0.45  agawam  massachusetts      1001        2314   \n",
      "24208    3     2      0.36  agawam  massachusetts      1001        1276   \n",
      "24211    4     2      0.11  agawam  massachusetts      1001        1732   \n",
      "\n",
      "        price  \n",
      "24201  180000  \n",
      "24206  239900  \n",
      "24207  525000  \n",
      "24208  289900  \n",
      "24211  275000  \n"
     ]
    }
   ],
   "source": [
    "# State full names mapping \n",
    "valid_states = {\n",
    "    'alabama', 'alaska', 'arizona', 'arkansas', 'california',\n",
    "    'colorado', 'connecticut', 'delaware', 'district of columbia', 'florida', 'georgia',\n",
    "    'hawaii', 'idaho', 'illinois', 'indiana', 'iowa',\n",
    "    'kansas', 'kentucky', 'louisiana', 'maine', 'maryland',\n",
    "    'massachusetts', 'michigan', 'minnesota', 'mississippi',\n",
    "    'missouri', 'montana', 'nebraska', 'nevada', 'new hampshire',\n",
    "    'new jersey', 'new mexico', 'new york', 'north carolina',\n",
    "    'north dakota', 'ohio', 'oklahoma', 'oregon', 'pennsylvania',\n",
    "    'rhode island', 'south carolina', 'south dakota', 'tennessee',\n",
    "    'texas', 'utah', 'vermont', 'virginia', 'washington',\n",
    "    'west virginia', 'wisconsin', 'wyoming'\n",
    "}\n",
    "\n",
    "# Filter the DataFrame to include only rows where the state is in the set of valid states\n",
    "df = df[df['state'].isin(valid_states)]\n",
    "\n",
    "print(df.head())"
   ]
  },
  {
   "cell_type": "code",
   "execution_count": 12,
   "metadata": {},
   "outputs": [],
   "source": [
    "# Function to convert \"saint \" to \"st. \" in city names\n",
    "def convert_saint_to_st(city_name):\n",
    "    if isinstance(city_name, str):\n",
    "        # Replace \"saint \" with \"st. \" (case-sensitive)\n",
    "        return city_name.replace(\"saint \", \"st. \")\n",
    "    return city_name\n",
    "\n",
    "# Apply the function to the 'city' column\n",
    "df['city'] = df['city'].apply(convert_saint_to_st)"
   ]
  },
  {
   "cell_type": "code",
   "execution_count": 13,
   "metadata": {},
   "outputs": [],
   "source": [
    "# Save the filtered DataFrame to a new CSV file\n",
    "df.to_csv('clean-real-estate-listings.csv', index=False)"
   ]
  },
  {
   "cell_type": "code",
   "execution_count": 4,
   "metadata": {},
   "outputs": [
    {
     "name": "stdout",
     "output_type": "stream",
     "text": [
      "Empty DataFrame\n",
      "Columns: [bed, bath, acre_lot, city, state, zip_code, house_size, price, city_id]\n",
      "Index: []\n",
      "   bed  bath  acre_lot    city          state  zip_code  house_size   price  \\\n",
      "0    2     1      0.34  agawam  massachusetts      1001         676  180000   \n",
      "1    3     1      0.46  agawam  massachusetts      1001        1196  239900   \n",
      "2    3     3      0.45  agawam  massachusetts      1001        2314  525000   \n",
      "3    3     2      0.36  agawam  massachusetts      1001        1276  289900   \n",
      "4    4     2      0.11  agawam  massachusetts      1001        1732  275000   \n",
      "\n",
      "   city_id  \n",
      "0    12698  \n",
      "1    12698  \n",
      "2    12698  \n",
      "3    12698  \n",
      "4    12698  \n"
     ]
    }
   ],
   "source": [
    "# Generate csv to import into real_estate_listing table in database\n",
    "\n",
    "# Load the cost of living data\n",
    "real_estate_df = pd.read_csv(\"clean-real-estate-listings.csv\")\n",
    "\n",
    "# Load city data\n",
    "city_df = pd.read_csv(\"city-table.csv\")\n",
    "city_df.rename(columns={'id': 'city_id'}, inplace=True)\n",
    "\n",
    "# Merge the DataFrames to map city_id based on city and state\n",
    "merged_df = pd.merge(real_estate_df, city_df, on=['city', 'state'], how='left')  \n",
    "\n",
    "# Check for any entries that did not get a city_id (these will need to be addressed)\n",
    "print(merged_df[merged_df['city_id'].isnull()])\n",
    "\n",
    "print(merged_df.head())"
   ]
  },
  {
   "cell_type": "code",
   "execution_count": 5,
   "metadata": {},
   "outputs": [
    {
     "name": "stdout",
     "output_type": "stream",
     "text": [
      "   city_id  bed  bath  acre_lot    city          state  zip_code  house_size  \\\n",
      "0    12698    2     1      0.34  agawam  massachusetts      1001         676   \n",
      "1    12698    3     1      0.46  agawam  massachusetts      1001        1196   \n",
      "2    12698    3     3      0.45  agawam  massachusetts      1001        2314   \n",
      "3    12698    3     2      0.36  agawam  massachusetts      1001        1276   \n",
      "4    12698    4     2      0.11  agawam  massachusetts      1001        1732   \n",
      "\n",
      "    price  \n",
      "0  180000  \n",
      "1  239900  \n",
      "2  525000  \n",
      "3  289900  \n",
      "4  275000  \n"
     ]
    }
   ],
   "source": [
    "# Reorder columns to make 'city_id' the first column\n",
    "# Get a list of all columns, then filter out 'city_id'\n",
    "cols = merged_df.columns.tolist()\n",
    "cols = ['city_id'] + [col for col in cols if col != 'city_id']\n",
    "\n",
    "# Reassign reordered columns back to the DataFrame\n",
    "merged_df = merged_df[cols]\n",
    "\n",
    "print(merged_df.head())"
   ]
  },
  {
   "cell_type": "code",
   "execution_count": 6,
   "metadata": {},
   "outputs": [
    {
     "name": "stdout",
     "output_type": "stream",
     "text": [
      "   city_id  bed  bath  acre_lot  zip_code  house_size   price\n",
      "0    12698    2     1      0.34      1001         676  180000\n",
      "1    12698    3     1      0.46      1001        1196  239900\n",
      "2    12698    3     3      0.45      1001        2314  525000\n",
      "3    12698    3     2      0.36      1001        1276  289900\n",
      "4    12698    4     2      0.11      1001        1732  275000\n"
     ]
    }
   ],
   "source": [
    "# Drop the city and state columns as they are no longer needed\n",
    "merged_df.drop(columns=['city', 'state'], inplace=True)\n",
    "\n",
    "print(merged_df.head())"
   ]
  },
  {
   "cell_type": "code",
   "execution_count": 7,
   "metadata": {},
   "outputs": [],
   "source": [
    "# Save the updated DataFrame to a new CSV file, ready for database import\n",
    "merged_df.to_csv('importable-real-estate-listings.csv', index=False)"
   ]
  }
 ],
 "metadata": {
  "kernelspec": {
   "display_name": "Python 3",
   "language": "python",
   "name": "python3"
  },
  "language_info": {
   "codemirror_mode": {
    "name": "ipython",
    "version": 3
   },
   "file_extension": ".py",
   "mimetype": "text/x-python",
   "name": "python",
   "nbconvert_exporter": "python",
   "pygments_lexer": "ipython3",
   "version": "3.11.4"
  }
 },
 "nbformat": 4,
 "nbformat_minor": 2
}
