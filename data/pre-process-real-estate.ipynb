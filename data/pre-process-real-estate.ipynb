{
 "cells": [
  {
   "cell_type": "code",
   "execution_count": 2,
   "metadata": {},
   "outputs": [],
   "source": [
    "import pandas as pd\n",
    "import os"
   ]
  },
  {
   "cell_type": "code",
   "execution_count": 3,
   "metadata": {},
   "outputs": [],
   "source": [
    "# Get the current working directory\n",
    "current_directory = os.getcwd()\n",
    "\n",
    "# Name of CSV file\n",
    "csv_filename = \"processed-real-estate-listings.csv\" \n",
    "\n",
    "# Combine the current directory path with the CSV file name to get the full file path\n",
    "dataset_path = os.path.join(current_directory, csv_filename)\n",
    "\n",
    "df = pd.read_csv(dataset_path)"
   ]
  },
  {
   "cell_type": "code",
   "execution_count": null,
   "metadata": {},
   "outputs": [],
   "source": [
    "# Reorder columns so that \"id\" column becomes the first column\n",
    "columns_order = ['id'] + [col for col in df.columns if col != 'id']\n",
    "df = df[columns_order]"
   ]
  },
  {
   "cell_type": "code",
   "execution_count": 4,
   "metadata": {},
   "outputs": [],
   "source": [
    "# Remove the 'id' column\n",
    "df = df.drop(columns=['id'])"
   ]
  },
  {
   "cell_type": "code",
   "execution_count": 7,
   "metadata": {},
   "outputs": [
    {
     "name": "stdout",
     "output_type": "stream",
     "text": [
      "   bed  bath  acre_lot        city        state  zip_code  house_size   price\n",
      "0    3     2      0.12    Adjuntas  Puerto Rico       601         920  105000\n",
      "1    4     2      0.08    Adjuntas  Puerto Rico       601        1527   80000\n",
      "2    2     1      0.15  Juana Diaz  Puerto Rico       795         748   67000\n",
      "3    4     2      0.10       Ponce  Puerto Rico       731        1800  145000\n",
      "4    6     2      0.05    Mayaguez  Puerto Rico       680           0   65000\n"
     ]
    }
   ],
   "source": [
    "# List of columns to convert to integers\n",
    "columns_to_convert = ['bed', 'bath', 'zip_code', 'house_size', 'price']\n",
    "\n",
    "# Convert specified columns to integer, handling non-null values correctly\n",
    "for column in columns_to_convert:\n",
    "    # Remove decimals by converting to integers for non-null values\n",
    "    df[column] = pd.to_numeric(df[column], errors='coerce').fillna(0).astype(int)\n",
    "\n",
    "print(df.head())"
   ]
  },
  {
   "cell_type": "code",
   "execution_count": 8,
   "metadata": {},
   "outputs": [],
   "source": [
    "# Remove rows where 'price' is zero (which originally were NaNs and got converted to zero)\n",
    "df = df[df['price'] != 0]"
   ]
  },
  {
   "cell_type": "code",
   "execution_count": 8,
   "metadata": {},
   "outputs": [
    {
     "name": "stdout",
     "output_type": "stream",
     "text": [
      "Original number of rows: 2351483\n",
      "Number of rows after: 1853038\n"
     ]
    }
   ],
   "source": [
    "# Print the number of rows before cleaning\n",
    "print(f\"Original number of rows: {len(df)}\")\n",
    "\n",
    "# Remove rows where 'city' or 'state' is null\n",
    "df = df.dropna(subset=['city', 'state', 'acre_lot'])\n",
    "\n",
    "# Print the number of rows after cleaning\n",
    "print(f\"Number of rows after: {len(df)}\")"
   ]
  },
  {
   "cell_type": "code",
   "execution_count": 9,
   "metadata": {},
   "outputs": [
    {
     "name": "stdout",
     "output_type": "stream",
     "text": [
      "Number of rows after: 1853038\n"
     ]
    }
   ],
   "source": [
    "# Remove rows where 'house_size' is 0\n",
    "df = df[df['house_size'] != 0]\n",
    "\n",
    "# Print the number of rows after cleaning\n",
    "print(f\"Number of rows after: {len(df)}\")"
   ]
  },
  {
   "cell_type": "code",
   "execution_count": 10,
   "metadata": {},
   "outputs": [
    {
     "name": "stdout",
     "output_type": "stream",
     "text": [
      "Number of rows after: 1853038\n"
     ]
    }
   ],
   "source": [
    "# Remove rows where 'zip_code' or 'bed' or 'bath' is 0\n",
    "df = df[(df['zip_code'] != 0) & (df['bath'] != 0) & (df['bed'] != 0)]\n",
    "\n",
    "# Print the number of rows after cleaning\n",
    "print(f\"Number of rows after: {len(df)}\")\n"
   ]
  },
  {
   "cell_type": "code",
   "execution_count": 11,
   "metadata": {},
   "outputs": [],
   "source": [
    "# Save the modified dataset\n",
    "df.to_csv(dataset_path, index=False)"
   ]
  }
 ],
 "metadata": {
  "kernelspec": {
   "display_name": "Python 3",
   "language": "python",
   "name": "python3"
  },
  "language_info": {
   "codemirror_mode": {
    "name": "ipython",
    "version": 3
   },
   "file_extension": ".py",
   "mimetype": "text/x-python",
   "name": "python",
   "nbconvert_exporter": "python",
   "pygments_lexer": "ipython3",
   "version": "3.11.4"
  }
 },
 "nbformat": 4,
 "nbformat_minor": 2
}
