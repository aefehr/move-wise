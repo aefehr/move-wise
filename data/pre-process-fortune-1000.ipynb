{
 "cells": [
  {
   "cell_type": "code",
   "execution_count": 1,
   "metadata": {},
   "outputs": [],
   "source": [
    "import pandas as pd"
   ]
  },
  {
   "cell_type": "code",
   "execution_count": 20,
   "metadata": {},
   "outputs": [],
   "source": [
    "df = pd.read_csv(\"Fortune_1000.csv\")"
   ]
  },
  {
   "cell_type": "code",
   "execution_count": 21,
   "metadata": {},
   "outputs": [
    {
     "name": "stdout",
     "output_type": "stream",
     "text": [
      "                 name  curr_rank  rank_change   revenue   profit  \\\n",
      "0             Walmart          1          0.0  572754.0  13673.0   \n",
      "1              Amazon          2          0.0  469822.0  33364.0   \n",
      "2               Apple          3          0.0  365817.0  94680.0   \n",
      "3          CVS Health          4          0.0  292111.0   7910.0   \n",
      "4  UnitedHealth Group          5          0.0  287597.0  17285.0   \n",
      "\n",
      "   num_of_employees       sector         city state newcomer ceo_founder  \\\n",
      "0         2300000.0    Retailing  Bentonville    AR       no          no   \n",
      "1         1608000.0    Retailing      Seattle    WA       no          no   \n",
      "2          154000.0   Technology    Cupertino    CA       no          no   \n",
      "3          258000.0  Health Care   Woonsocket    RI       no          no   \n",
      "4          350000.0  Health Care   Minnetonka    MN       no          no   \n",
      "\n",
      "  ceo_woman profitable prev_rank                  CEO  \\\n",
      "0        no        yes       1.0  C. Douglas McMillon   \n",
      "1        no        yes       2.0      Andrew R. Jassy   \n",
      "2        no        yes       3.0      Timothy D. Cook   \n",
      "3       yes        yes       4.0          Karen Lynch   \n",
      "4        no        yes       5.0      Andrew P. Witty   \n",
      "\n",
      "                         website ticker market_cap  \n",
      "0  https://www.stock.walmart.com    WMT     352037  \n",
      "1                 www.amazon.com   AMZN    1202717  \n",
      "2                  www.apple.com   AAPL    2443962  \n",
      "3      https://www.cvshealth.com    CVS     125204  \n",
      "4      www.unitedhealthgroup.com    UNH     500468  \n"
     ]
    }
   ],
   "source": [
    "# Rename the column 'num. of employees' to 'num_of_employees'\n",
    "df.rename(columns={'num. of employees': 'num_of_employees'}, inplace=True)\n",
    "\n",
    "df.rename(columns={'Market Cap': 'market_cap'}, inplace=True)\n",
    "\n",
    "df.rename(columns={'Ticker': 'ticker'}, inplace=True)\n",
    "\n",
    "df.rename(columns={'company': 'name'}, inplace=True)\n",
    "\n",
    "df.rename(columns={'Website': 'website'}, inplace=True)\n",
    "\n",
    "df.rename(columns={'rank': 'curr_rank'}, inplace=True)\n",
    "\n",
    "print(df.head())"
   ]
  },
  {
   "cell_type": "code",
   "execution_count": 22,
   "metadata": {},
   "outputs": [
    {
     "name": "stdout",
     "output_type": "stream",
     "text": [
      "                 name  curr_rank  rank_change   revenue   profit  \\\n",
      "0             Walmart          1          0.0  572754.0  13673.0   \n",
      "1              Amazon          2          0.0  469822.0  33364.0   \n",
      "2               Apple          3          0.0  365817.0  94680.0   \n",
      "3          CVS Health          4          0.0  292111.0   7910.0   \n",
      "4  UnitedHealth Group          5          0.0  287597.0  17285.0   \n",
      "\n",
      "   num_of_employees       sector         city state newcomer ceo_founder  \\\n",
      "0         2300000.0    Retailing  Bentonville    AR       no          no   \n",
      "1         1608000.0    Retailing      Seattle    WA       no          no   \n",
      "2          154000.0   Technology    Cupertino    CA       no          no   \n",
      "3          258000.0  Health Care   Woonsocket    RI       no          no   \n",
      "4          350000.0  Health Care   Minnetonka    MN       no          no   \n",
      "\n",
      "  ceo_woman profitable prev_rank                        website ticker  \\\n",
      "0        no        yes       1.0  https://www.stock.walmart.com    WMT   \n",
      "1        no        yes       2.0                 www.amazon.com   AMZN   \n",
      "2        no        yes       3.0                  www.apple.com   AAPL   \n",
      "3       yes        yes       4.0      https://www.cvshealth.com    CVS   \n",
      "4        no        yes       5.0      www.unitedhealthgroup.com    UNH   \n",
      "\n",
      "  market_cap  \n",
      "0     352037  \n",
      "1    1202717  \n",
      "2    2443962  \n",
      "3     125204  \n",
      "4     500468  \n"
     ]
    }
   ],
   "source": [
    "# Remove the specified columns\n",
    "columns_to_remove = ['CEO']\n",
    "df.drop(columns=columns_to_remove, inplace=True)\n",
    "\n",
    "print(df.head())"
   ]
  },
  {
   "cell_type": "code",
   "execution_count": 23,
   "metadata": {},
   "outputs": [
    {
     "name": "stdout",
     "output_type": "stream",
     "text": [
      "                 name  curr_rank  rank_change   revenue   profit  \\\n",
      "0             Walmart          1            0  572754.0  13673.0   \n",
      "1              Amazon          2            0  469822.0  33364.0   \n",
      "2               Apple          3            0  365817.0  94680.0   \n",
      "3          CVS Health          4            0  292111.0   7910.0   \n",
      "4  UnitedHealth Group          5            0  287597.0  17285.0   \n",
      "\n",
      "   num_of_employees       sector         city state newcomer ceo_founder  \\\n",
      "0           2300000    Retailing  Bentonville    AR       no          no   \n",
      "1           1608000    Retailing      Seattle    WA       no          no   \n",
      "2            154000   Technology    Cupertino    CA       no          no   \n",
      "3            258000  Health Care   Woonsocket    RI       no          no   \n",
      "4            350000  Health Care   Minnetonka    MN       no          no   \n",
      "\n",
      "  ceo_woman profitable  prev_rank                        website ticker  \\\n",
      "0        no        yes          1  https://www.stock.walmart.com    WMT   \n",
      "1        no        yes          2                 www.amazon.com   AMZN   \n",
      "2        no        yes          3                  www.apple.com   AAPL   \n",
      "3       yes        yes          4      https://www.cvshealth.com    CVS   \n",
      "4        no        yes          5      www.unitedhealthgroup.com    UNH   \n",
      "\n",
      "  market_cap  \n",
      "0     352037  \n",
      "1    1202717  \n",
      "2    2443962  \n",
      "3     125204  \n",
      "4     500468  \n"
     ]
    }
   ],
   "source": [
    "# List of columns to convert to integers\n",
    "columns_to_convert = ['rank_change', 'num_of_employees', 'prev_rank']\n",
    "\n",
    "# Convert specified columns to integer, handling non-null values correctly\n",
    "for column in columns_to_convert:\n",
    "    # Remove decimals by converting to integers for non-null values\n",
    "    df[column] = pd.to_numeric(df[column], errors='coerce').fillna(0).astype(int)\n",
    "\n",
    "print(df.head())"
   ]
  },
  {
   "cell_type": "code",
   "execution_count": 24,
   "metadata": {},
   "outputs": [
    {
     "name": "stdout",
     "output_type": "stream",
     "text": [
      "                 name  curr_rank  rank_change   revenue   profit  \\\n",
      "0             Walmart          1            0  572754.0  13673.0   \n",
      "1              Amazon          2            0  469822.0  33364.0   \n",
      "2               Apple          3            0  365817.0  94680.0   \n",
      "3          CVS Health          4            0  292111.0   7910.0   \n",
      "4  UnitedHealth Group          5            0  287597.0  17285.0   \n",
      "\n",
      "   num_of_employees       sector         city         state newcomer  \\\n",
      "0           2300000    Retailing  Bentonville      Arkansas       no   \n",
      "1           1608000    Retailing      Seattle    Washington       no   \n",
      "2            154000   Technology    Cupertino    California       no   \n",
      "3            258000  Health Care   Woonsocket  Rhode Island       no   \n",
      "4            350000  Health Care   Minnetonka     Minnesota       no   \n",
      "\n",
      "  ceo_founder ceo_woman profitable  prev_rank                        website  \\\n",
      "0          no        no        yes          1  https://www.stock.walmart.com   \n",
      "1          no        no        yes          2                 www.amazon.com   \n",
      "2          no        no        yes          3                  www.apple.com   \n",
      "3          no       yes        yes          4      https://www.cvshealth.com   \n",
      "4          no        no        yes          5      www.unitedhealthgroup.com   \n",
      "\n",
      "  ticker market_cap  \n",
      "0    WMT     352037  \n",
      "1   AMZN    1202717  \n",
      "2   AAPL    2443962  \n",
      "3    CVS     125204  \n",
      "4    UNH     500468  \n"
     ]
    }
   ],
   "source": [
    "# State abbreviations to full names mapping\n",
    "state_mapping = {\n",
    "    'AL': 'Alabama', 'AK': 'Alaska', 'AZ': 'Arizona', 'AR': 'Arkansas', 'CA': 'California',\n",
    "    'CO': 'Colorado', 'CT': 'Connecticut', 'DE': 'Delaware', 'DC' : 'District of Columbia', 'FL': 'Florida', 'GA': 'Georgia',\n",
    "    'HI': 'Hawaii', 'ID': 'Idaho', 'IL': 'Illinois', 'IN': 'Indiana', 'IA': 'Iowa',\n",
    "    'KS': 'Kansas', 'KY': 'Kentucky', 'LA': 'Louisiana', 'ME': 'Maine', 'MD': 'Maryland',\n",
    "    'MA': 'Massachusetts', 'MI': 'Michigan', 'MN': 'Minnesota', 'MS': 'Mississippi',\n",
    "    'MO': 'Missouri', 'MT': 'Montana', 'NE': 'Nebraska', 'NV': 'Nevada', 'NH': 'New Hampshire',\n",
    "    'NJ': 'New Jersey', 'NM': 'New Mexico', 'NY': 'New York', 'NC': 'North Carolina',\n",
    "    'ND': 'North Dakota', 'OH': 'Ohio', 'OK': 'Oklahoma', 'OR': 'Oregon', 'PA': 'Pennsylvania',\n",
    "    'RI': 'Rhode Island', 'SC': 'South Carolina', 'SD': 'South Dakota', 'TN': 'Tennessee',\n",
    "    'TX': 'Texas', 'UT': 'Utah', 'VT': 'Vermont', 'VA': 'Virginia', 'WA': 'Washington',\n",
    "    'WV': 'West Virginia', 'WI': 'Wisconsin', 'WY': 'Wyoming'\n",
    "}\n",
    "\n",
    "# Replace state abbreviations with full names\n",
    "df['state'] = df['state'].map(state_mapping)\n",
    "\n",
    "print(df.head())"
   ]
  },
  {
   "cell_type": "code",
   "execution_count": 25,
   "metadata": {},
   "outputs": [
    {
     "name": "stdout",
     "output_type": "stream",
     "text": [
      "                 name  curr_rank  rank_change   revenue   profit  \\\n",
      "0             Walmart          1            0  572754.0  13673.0   \n",
      "1              Amazon          2            0  469822.0  33364.0   \n",
      "2               Apple          3            0  365817.0  94680.0   \n",
      "3          CVS Health          4            0  292111.0   7910.0   \n",
      "4  UnitedHealth Group          5            0  287597.0  17285.0   \n",
      "\n",
      "   num_of_employees       sector         city         state newcomer  \\\n",
      "0           2300000    Retailing  bentonville      arkansas       no   \n",
      "1           1608000    Retailing      seattle    washington       no   \n",
      "2            154000   Technology    cupertino    california       no   \n",
      "3            258000  Health Care   woonsocket  rhode island       no   \n",
      "4            350000  Health Care   minnetonka     minnesota       no   \n",
      "\n",
      "  ceo_founder ceo_woman profitable  prev_rank                        website  \\\n",
      "0          no        no        yes          1  https://www.stock.walmart.com   \n",
      "1          no        no        yes          2                 www.amazon.com   \n",
      "2          no        no        yes          3                  www.apple.com   \n",
      "3          no       yes        yes          4      https://www.cvshealth.com   \n",
      "4          no        no        yes          5      www.unitedhealthgroup.com   \n",
      "\n",
      "  ticker market_cap  \n",
      "0    WMT     352037  \n",
      "1   AMZN    1202717  \n",
      "2   AAPL    2443962  \n",
      "3    CVS     125204  \n",
      "4    UNH     500468  \n"
     ]
    }
   ],
   "source": [
    "# Convert 'city' and 'state' columns to lowercase\n",
    "df['city'] = df['city'].str.lower()\n",
    "df['state'] = df['state'].str.lower()\n",
    "\n",
    "print(df.head())"
   ]
  },
  {
   "cell_type": "code",
   "execution_count": 26,
   "metadata": {},
   "outputs": [
    {
     "name": "stdout",
     "output_type": "stream",
     "text": [
      "Original number of rows: 1000\n",
      "Number of rows after removing nulls: 999\n"
     ]
    }
   ],
   "source": [
    "# Display initial data count for reference\n",
    "print(\"Original number of rows:\", df.shape[0])\n",
    "\n",
    "# Remove rows where either 'city' or 'state' is null\n",
    "df_cleaned = df.dropna(subset=['city', 'state'])\n",
    "\n",
    "# Display data count after removal to verify changes\n",
    "print(\"Number of rows after removing nulls:\", df_cleaned.shape[0])"
   ]
  },
  {
   "cell_type": "code",
   "execution_count": 29,
   "metadata": {},
   "outputs": [],
   "source": [
    "# Save the modified dataset\n",
    "df.to_csv('clean-fortune-1000.csv', index=False)"
   ]
  },
  {
   "cell_type": "code",
   "execution_count": 32,
   "metadata": {},
   "outputs": [
    {
     "name": "stdout",
     "output_type": "stream",
     "text": [
      "Empty DataFrame\n",
      "Columns: [name, curr_rank, rank_change, revenue, profit, num_of_employees, sector, city, state, newcomer, ceo_founder, ceo_woman, profitable, prev_rank, website, ticker, market_cap, city_id]\n",
      "Index: []\n",
      "                 name  curr_rank  rank_change   revenue   profit  \\\n",
      "0             Walmart          1            0  572754.0  13673.0   \n",
      "1              Amazon          2            0  469822.0  33364.0   \n",
      "2               Apple          3            0  365817.0  94680.0   \n",
      "3          CVS Health          4            0  292111.0   7910.0   \n",
      "4  UnitedHealth Group          5            0  287597.0  17285.0   \n",
      "\n",
      "   num_of_employees       sector         city         state newcomer  \\\n",
      "0           2300000    Retailing  bentonville      arkansas       no   \n",
      "1           1608000    Retailing      seattle    washington       no   \n",
      "2            154000   Technology    cupertino    california       no   \n",
      "3            258000  Health Care   woonsocket  rhode island       no   \n",
      "4            350000  Health Care   minnetonka     minnesota       no   \n",
      "\n",
      "  ceo_founder ceo_woman profitable  prev_rank                        website  \\\n",
      "0          no        no        yes          1  https://www.stock.walmart.com   \n",
      "1          no        no        yes          2                 www.amazon.com   \n",
      "2          no        no        yes          3                  www.apple.com   \n",
      "3          no       yes        yes          4      https://www.cvshealth.com   \n",
      "4          no        no        yes          5      www.unitedhealthgroup.com   \n",
      "\n",
      "  ticker market_cap  city_id  \n",
      "0    WMT     352037     1244  \n",
      "1   AMZN    1202717    32821  \n",
      "2   AAPL    2443962     2146  \n",
      "3    CVS     125204    27548  \n",
      "4    UNH     500468    14821  \n"
     ]
    }
   ],
   "source": [
    "# Generate csv to import into fortune_1000 table in database\n",
    "\n",
    "# Load the fortune 10000 data\n",
    "fortune_1000_df = pd.read_csv(\"clean-fortune-1000.csv\")\n",
    "\n",
    "# Load city data\n",
    "city_df = pd.read_csv(\"city-table.csv\")\n",
    "city_df.rename(columns={'id': 'city_id'}, inplace=True)\n",
    "\n",
    "# Merge the DataFrames to map city_id based on city and state\n",
    "merged_df = pd.merge(fortune_1000_df, city_df, on=['city', 'state'], how='left')  \n",
    "\n",
    "# Check for any entries that did not get a city_id (these will need to be addressed)\n",
    "print(merged_df[merged_df['city_id'].isnull()])\n",
    "\n",
    "print(merged_df.head())"
   ]
  },
  {
   "cell_type": "code",
   "execution_count": 33,
   "metadata": {},
   "outputs": [
    {
     "name": "stdout",
     "output_type": "stream",
     "text": [
      "   city_id                name  curr_rank  rank_change   revenue   profit  \\\n",
      "0     1244             Walmart          1            0  572754.0  13673.0   \n",
      "1    32821              Amazon          2            0  469822.0  33364.0   \n",
      "2     2146               Apple          3            0  365817.0  94680.0   \n",
      "3    27548          CVS Health          4            0  292111.0   7910.0   \n",
      "4    14821  UnitedHealth Group          5            0  287597.0  17285.0   \n",
      "\n",
      "   num_of_employees       sector         city         state newcomer  \\\n",
      "0           2300000    Retailing  bentonville      arkansas       no   \n",
      "1           1608000    Retailing      seattle    washington       no   \n",
      "2            154000   Technology    cupertino    california       no   \n",
      "3            258000  Health Care   woonsocket  rhode island       no   \n",
      "4            350000  Health Care   minnetonka     minnesota       no   \n",
      "\n",
      "  ceo_founder ceo_woman profitable  prev_rank                        website  \\\n",
      "0          no        no        yes          1  https://www.stock.walmart.com   \n",
      "1          no        no        yes          2                 www.amazon.com   \n",
      "2          no        no        yes          3                  www.apple.com   \n",
      "3          no       yes        yes          4      https://www.cvshealth.com   \n",
      "4          no        no        yes          5      www.unitedhealthgroup.com   \n",
      "\n",
      "  ticker market_cap  \n",
      "0    WMT     352037  \n",
      "1   AMZN    1202717  \n",
      "2   AAPL    2443962  \n",
      "3    CVS     125204  \n",
      "4    UNH     500468  \n"
     ]
    }
   ],
   "source": [
    "# Reorder columns to make 'city_id' the first column\n",
    "# Get a list of all columns, then filter out 'city_id'\n",
    "cols = merged_df.columns.tolist()\n",
    "cols = ['city_id'] + [col for col in cols if col != 'city_id']\n",
    "\n",
    "# Reassign reordered columns back to the DataFrame\n",
    "merged_df = merged_df[cols]\n",
    "\n",
    "print(merged_df.head())"
   ]
  },
  {
   "cell_type": "code",
   "execution_count": 34,
   "metadata": {},
   "outputs": [
    {
     "name": "stdout",
     "output_type": "stream",
     "text": [
      "   city_id                name  curr_rank  rank_change   revenue   profit  \\\n",
      "0     1244             Walmart          1            0  572754.0  13673.0   \n",
      "1    32821              Amazon          2            0  469822.0  33364.0   \n",
      "2     2146               Apple          3            0  365817.0  94680.0   \n",
      "3    27548          CVS Health          4            0  292111.0   7910.0   \n",
      "4    14821  UnitedHealth Group          5            0  287597.0  17285.0   \n",
      "\n",
      "   num_of_employees       sector newcomer ceo_founder ceo_woman profitable  \\\n",
      "0           2300000    Retailing       no          no        no        yes   \n",
      "1           1608000    Retailing       no          no        no        yes   \n",
      "2            154000   Technology       no          no        no        yes   \n",
      "3            258000  Health Care       no          no       yes        yes   \n",
      "4            350000  Health Care       no          no        no        yes   \n",
      "\n",
      "   prev_rank                        website ticker market_cap  \n",
      "0          1  https://www.stock.walmart.com    WMT     352037  \n",
      "1          2                 www.amazon.com   AMZN    1202717  \n",
      "2          3                  www.apple.com   AAPL    2443962  \n",
      "3          4      https://www.cvshealth.com    CVS     125204  \n",
      "4          5      www.unitedhealthgroup.com    UNH     500468  \n"
     ]
    }
   ],
   "source": [
    "# Drop the city and state columns as they are no longer needed\n",
    "merged_df.drop(columns=['city', 'state'], inplace=True)\n",
    "\n",
    "print(merged_df.head())"
   ]
  },
  {
   "cell_type": "code",
   "execution_count": 35,
   "metadata": {},
   "outputs": [],
   "source": [
    "# Save the updated DataFrame to a new CSV file, ready for database import\n",
    "merged_df.to_csv('importable-fortune-1000.csv', index=False)"
   ]
  },
  {
   "cell_type": "code",
   "execution_count": 36,
   "metadata": {},
   "outputs": [],
   "source": [
    "import numpy as np\n",
    "\n",
    "df = pd.read_csv('importable-fortune-1000.csv')\n",
    "\n",
    "# Replace '-' with NaN in the 'market_cap' column\n",
    "df['market_cap'] = df['market_cap'].replace('-', np.nan)\n",
    "\n",
    "df.to_csv('importable-fortune-1000.csv', index=False)"
   ]
  }
 ],
 "metadata": {
  "kernelspec": {
   "display_name": "Python 3",
   "language": "python",
   "name": "python3"
  },
  "language_info": {
   "codemirror_mode": {
    "name": "ipython",
    "version": 3
   },
   "file_extension": ".py",
   "mimetype": "text/x-python",
   "name": "python",
   "nbconvert_exporter": "python",
   "pygments_lexer": "ipython3",
   "version": "3.11.4"
  }
 },
 "nbformat": 4,
 "nbformat_minor": 2
}
