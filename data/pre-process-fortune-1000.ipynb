{
 "cells": [
  {
   "cell_type": "code",
   "execution_count": 1,
   "metadata": {},
   "outputs": [],
   "source": [
    "import pandas as pd\n",
    "import os"
   ]
  },
  {
   "cell_type": "code",
   "execution_count": 3,
   "metadata": {},
   "outputs": [],
   "source": [
    "# Get the current working directory\n",
    "current_directory = os.getcwd()\n",
    "\n",
    "# Name of CSV file\n",
    "csv_filename = \"Fortune_1000.csv\" \n",
    "\n",
    "# Combine the current directory path with the CSV file name to get the full file path\n",
    "dataset_path = os.path.join(current_directory, csv_filename)\n",
    "\n",
    "df = pd.read_csv(dataset_path)"
   ]
  },
  {
   "cell_type": "code",
   "execution_count": 4,
   "metadata": {},
   "outputs": [
    {
     "name": "stdout",
     "output_type": "stream",
     "text": [
      "         company_name  rank  rank_change   revenue   profit  num_of_employees  \\\n",
      "0             Walmart     1          0.0  572754.0  13673.0         2300000.0   \n",
      "1              Amazon     2          0.0  469822.0  33364.0         1608000.0   \n",
      "2               Apple     3          0.0  365817.0  94680.0          154000.0   \n",
      "3          CVS Health     4          0.0  292111.0   7910.0          258000.0   \n",
      "4  UnitedHealth Group     5          0.0  287597.0  17285.0          350000.0   \n",
      "\n",
      "        sector         city state newcomer ceo_founder ceo_woman profitable  \\\n",
      "0    Retailing  Bentonville    AR       no          no        no        yes   \n",
      "1    Retailing      Seattle    WA       no          no        no        yes   \n",
      "2   Technology    Cupertino    CA       no          no        no        yes   \n",
      "3  Health Care   Woonsocket    RI       no          no       yes        yes   \n",
      "4  Health Care   Minnetonka    MN       no          no        no        yes   \n",
      "\n",
      "  prev_rank                  CEO                        Website ticker  \\\n",
      "0       1.0  C. Douglas McMillon  https://www.stock.walmart.com    WMT   \n",
      "1       2.0      Andrew R. Jassy                 www.amazon.com   AMZN   \n",
      "2       3.0      Timothy D. Cook                  www.apple.com   AAPL   \n",
      "3       4.0          Karen Lynch      https://www.cvshealth.com    CVS   \n",
      "4       5.0      Andrew P. Witty      www.unitedhealthgroup.com    UNH   \n",
      "\n",
      "  market_cap  \n",
      "0     352037  \n",
      "1    1202717  \n",
      "2    2443962  \n",
      "3     125204  \n",
      "4     500468  \n"
     ]
    }
   ],
   "source": [
    "# Rename the column 'num. of employees' to 'num_of_employees'\n",
    "df.rename(columns={'num. of employees': 'num_of_employees'}, inplace=True)\n",
    "\n",
    "df.rename(columns={'Market Cap': 'market_cap'}, inplace=True)\n",
    "\n",
    "df.rename(columns={'Ticker': 'ticker'}, inplace=True)\n",
    "\n",
    "df.rename(columns={'company': 'company_name'}, inplace=True)\n",
    "\n",
    "print(df.head())"
   ]
  },
  {
   "cell_type": "code",
   "execution_count": 6,
   "metadata": {},
   "outputs": [
    {
     "name": "stdout",
     "output_type": "stream",
     "text": [
      "         company_name  rank  rank_change   revenue   profit  num_of_employees  \\\n",
      "0             Walmart     1          0.0  572754.0  13673.0         2300000.0   \n",
      "1              Amazon     2          0.0  469822.0  33364.0         1608000.0   \n",
      "2               Apple     3          0.0  365817.0  94680.0          154000.0   \n",
      "3          CVS Health     4          0.0  292111.0   7910.0          258000.0   \n",
      "4  UnitedHealth Group     5          0.0  287597.0  17285.0          350000.0   \n",
      "\n",
      "        sector newcomer prev_rank ticker market_cap  \n",
      "0    Retailing       no       1.0    WMT     352037  \n",
      "1    Retailing       no       2.0   AMZN    1202717  \n",
      "2   Technology       no       3.0   AAPL    2443962  \n",
      "3  Health Care       no       4.0    CVS     125204  \n",
      "4  Health Care       no       5.0    UNH     500468  \n"
     ]
    }
   ],
   "source": [
    "# Remove the specified columns\n",
    "columns_to_remove = ['city', 'state', 'ceo_founder', 'ceo_woman', 'profitable', 'CEO', 'Website']\n",
    "df.drop(columns=columns_to_remove, inplace=True)\n",
    "\n",
    "print(df.head())"
   ]
  },
  {
   "cell_type": "code",
   "execution_count": 8,
   "metadata": {},
   "outputs": [
    {
     "name": "stdout",
     "output_type": "stream",
     "text": [
      "         company_name  rank  rank_change  revenue  profit  num_of_employees  \\\n",
      "0             Walmart     1            0   572754   13673           2300000   \n",
      "1              Amazon     2            0   469822   33364           1608000   \n",
      "2               Apple     3            0   365817   94680            154000   \n",
      "3          CVS Health     4            0   292111    7910            258000   \n",
      "4  UnitedHealth Group     5            0   287597   17285            350000   \n",
      "\n",
      "        sector newcomer  prev_rank ticker market_cap  \n",
      "0    Retailing       no          1    WMT     352037  \n",
      "1    Retailing       no          2   AMZN    1202717  \n",
      "2   Technology       no          3   AAPL    2443962  \n",
      "3  Health Care       no          4    CVS     125204  \n",
      "4  Health Care       no          5    UNH     500468  \n"
     ]
    }
   ],
   "source": [
    "# List of columns to convert to integers\n",
    "columns_to_convert = ['rank_change', 'revenue', 'profit', 'num_of_employees', 'prev_rank']\n",
    "\n",
    "# Convert specified columns to integer, handling non-null values correctly\n",
    "for column in columns_to_convert:\n",
    "    # Remove decimals by converting to integers for non-null values\n",
    "    df[column] = pd.to_numeric(df[column], errors='coerce').fillna(0).astype(int)\n",
    "\n",
    "print(df.head())"
   ]
  },
  {
   "cell_type": "code",
   "execution_count": 9,
   "metadata": {},
   "outputs": [],
   "source": [
    "# Name of CSV file\n",
    "csv_filename = \"processed-fortune-1000.csv\" \n",
    "\n",
    "# Combine the current directory path with the CSV file name to get the full file path\n",
    "dataset_path = os.path.join(current_directory, csv_filename)\n",
    "\n",
    "# Save the modified dataset\n",
    "df.to_csv(dataset_path, index=False)"
   ]
  }
 ],
 "metadata": {
  "kernelspec": {
   "display_name": "Python 3",
   "language": "python",
   "name": "python3"
  },
  "language_info": {
   "codemirror_mode": {
    "name": "ipython",
    "version": 3
   },
   "file_extension": ".py",
   "mimetype": "text/x-python",
   "name": "python",
   "nbconvert_exporter": "python",
   "pygments_lexer": "ipython3",
   "version": "3.11.4"
  }
 },
 "nbformat": 4,
 "nbformat_minor": 2
}
