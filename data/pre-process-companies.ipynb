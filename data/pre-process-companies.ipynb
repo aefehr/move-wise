{
 "cells": [
  {
   "cell_type": "code",
   "execution_count": 2,
   "metadata": {},
   "outputs": [],
   "source": [
    "import pandas as pd\n",
    "import os"
   ]
  },
  {
   "cell_type": "code",
   "execution_count": 7,
   "metadata": {},
   "outputs": [],
   "source": [
    "# Name of CSV file\n",
    "csv_filename = \"companies.csv\" \n",
    "\n",
    "# Get the current working directory\n",
    "current_directory = os.getcwd()\n",
    "\n",
    "# Combine the current directory path with the CSV file name to get the full file path\n",
    "dataset_path = os.path.join(current_directory, csv_filename)\n",
    "\n",
    "df = pd.read_csv(dataset_path)"
   ]
  },
  {
   "cell_type": "code",
   "execution_count": 8,
   "metadata": {},
   "outputs": [
    {
     "name": "stdout",
     "output_type": "stream",
     "text": [
      "         country  founded                        id      industry  \\\n",
      "0  united states   2023.0             bedrock-black           NaN   \n",
      "2  united states   1977.0           wh-construction  construction   \n",
      "4  united states      NaN         gregory-hitchcock  construction   \n",
      "5  united states      NaN  mission-imaging-services           NaN   \n",
      "7  united states      NaN      althoff-lawn-service  construction   \n",
      "\n",
      "                                    linkedin_url   locality  \\\n",
      "0             linkedin.com/company/bedrock-black       lehi   \n",
      "2           linkedin.com/company/wh-construction      canby   \n",
      "4         linkedin.com/company/gregory-hitchcock   new york   \n",
      "5  linkedin.com/company/mission-imaging-services      arden   \n",
      "7      linkedin.com/company/althoff-lawn-service  watertown   \n",
      "\n",
      "                        name          region   size           website  \n",
      "0              bedrock black            utah   1-10  bedrockblack.com  \n",
      "2  ward-henshaw construction          oregon  11-50  ward-henshaw.com  \n",
      "4          gregory hitchcock        new york  11-50               NaN  \n",
      "5   mission imaging services  north carolina   1-10               NaN  \n",
      "7       althoff lawn service    south dakota  11-50               NaN  \n"
     ]
    }
   ],
   "source": [
    "# Drop rows where any of the specified columns contain null values\n",
    "df = df.dropna(subset=['locality', 'region', 'name'])\n",
    "\n",
    "print(df.head())"
   ]
  },
  {
   "cell_type": "code",
   "execution_count": 9,
   "metadata": {},
   "outputs": [
    {
     "name": "stdout",
     "output_type": "stream",
     "text": [
      "   founded      industry                                   linkedin_url  \\\n",
      "0   2023.0           NaN             linkedin.com/company/bedrock-black   \n",
      "2   1977.0  construction           linkedin.com/company/wh-construction   \n",
      "4      NaN  construction         linkedin.com/company/gregory-hitchcock   \n",
      "5      NaN           NaN  linkedin.com/company/mission-imaging-services   \n",
      "7      NaN  construction      linkedin.com/company/althoff-lawn-service   \n",
      "\n",
      "        city                       name           state   size  \\\n",
      "0       lehi              bedrock black            utah   1-10   \n",
      "2      canby  ward-henshaw construction          oregon  11-50   \n",
      "4   new york          gregory hitchcock        new york  11-50   \n",
      "5      arden   mission imaging services  north carolina   1-10   \n",
      "7  watertown       althoff lawn service    south dakota  11-50   \n",
      "\n",
      "            website  \n",
      "0  bedrockblack.com  \n",
      "2  ward-henshaw.com  \n",
      "4               NaN  \n",
      "5               NaN  \n",
      "7               NaN  \n"
     ]
    }
   ],
   "source": [
    "# Remove the columns 'id' and 'country'\n",
    "df = df.drop(columns=['id', 'country'])\n",
    "\n",
    "# Rename the columns 'locality' to 'city' and 'region' to 'state'\n",
    "df.rename(columns={'locality': 'city', 'region': 'state'}, inplace=True)\n",
    "\n",
    "print(df.head())"
   ]
  },
  {
   "cell_type": "code",
   "execution_count": 10,
   "metadata": {},
   "outputs": [
    {
     "name": "stdout",
     "output_type": "stream",
     "text": [
      "                        name       city           state  founded  \\\n",
      "0              bedrock black       lehi            utah   2023.0   \n",
      "2  ward-henshaw construction      canby          oregon   1977.0   \n",
      "4          gregory hitchcock   new york        new york      NaN   \n",
      "5   mission imaging services      arden  north carolina      NaN   \n",
      "7       althoff lawn service  watertown    south dakota      NaN   \n",
      "\n",
      "       industry                                   linkedin_url   size  \\\n",
      "0           NaN             linkedin.com/company/bedrock-black   1-10   \n",
      "2  construction           linkedin.com/company/wh-construction  11-50   \n",
      "4  construction         linkedin.com/company/gregory-hitchcock  11-50   \n",
      "5           NaN  linkedin.com/company/mission-imaging-services   1-10   \n",
      "7  construction      linkedin.com/company/althoff-lawn-service  11-50   \n",
      "\n",
      "            website  \n",
      "0  bedrockblack.com  \n",
      "2  ward-henshaw.com  \n",
      "4               NaN  \n",
      "5               NaN  \n",
      "7               NaN  \n"
     ]
    }
   ],
   "source": [
    "# Reorder the columns so that 'name', 'city', and 'state' are the first three\n",
    "columns_order = ['name', 'city', 'state'] + [col for col in df.columns if col not in ['name', 'city', 'state']]\n",
    "df = df[columns_order]\n",
    "\n",
    "print(df.head())"
   ]
  },
  {
   "cell_type": "code",
   "execution_count": 11,
   "metadata": {},
   "outputs": [
    {
     "name": "stdout",
     "output_type": "stream",
     "text": [
      "                        name       city           state  founded  \\\n",
      "0              Bedrock Black       Lehi            Utah   2023.0   \n",
      "2  Ward-Henshaw Construction      Canby          Oregon   1977.0   \n",
      "4          Gregory Hitchcock   New York        New York      NaN   \n",
      "5   Mission Imaging Services      Arden  North Carolina      NaN   \n",
      "7       Althoff Lawn Service  Watertown    South Dakota      NaN   \n",
      "\n",
      "       industry                                   linkedin_url   size  \\\n",
      "0           NaN             linkedin.com/company/bedrock-black   1-10   \n",
      "2  construction           linkedin.com/company/wh-construction  11-50   \n",
      "4  construction         linkedin.com/company/gregory-hitchcock  11-50   \n",
      "5           NaN  linkedin.com/company/mission-imaging-services   1-10   \n",
      "7  construction      linkedin.com/company/althoff-lawn-service  11-50   \n",
      "\n",
      "            website  \n",
      "0  bedrockblack.com  \n",
      "2  ward-henshaw.com  \n",
      "4               NaN  \n",
      "5               NaN  \n",
      "7               NaN  \n"
     ]
    }
   ],
   "source": [
    "# Capitalize the first letter of each word in the 'name', 'city', and 'state' columns\n",
    "df['name'] = df['name'].str.title()\n",
    "df['city'] = df['city'].str.title()\n",
    "df['state'] = df['state'].str.title()\n",
    "\n",
    "print(df.head())"
   ]
  },
  {
   "cell_type": "code",
   "execution_count": 12,
   "metadata": {},
   "outputs": [],
   "source": [
    "# Name of output CSV file\n",
    "output_csv_filename = \"processed-companies.csv\" \n",
    "\n",
    "# Combine the current directory path with the CSV file name to get the full file path\n",
    "output_dataset_path = os.path.join(current_directory, output_csv_filename)\n",
    "\n",
    "# Save the modified dataframe back to CSV\n",
    "df.to_csv(output_dataset_path, index=False)"
   ]
  }
 ],
 "metadata": {
  "kernelspec": {
   "display_name": "Python 3",
   "language": "python",
   "name": "python3"
  },
  "language_info": {
   "codemirror_mode": {
    "name": "ipython",
    "version": 3
   },
   "file_extension": ".py",
   "mimetype": "text/x-python",
   "name": "python",
   "nbconvert_exporter": "python",
   "pygments_lexer": "ipython3",
   "version": "3.11.4"
  }
 },
 "nbformat": 4,
 "nbformat_minor": 2
}
