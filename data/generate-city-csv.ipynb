{
 "cells": [
  {
   "cell_type": "code",
   "execution_count": 2,
   "metadata": {},
   "outputs": [],
   "source": [
    "import pandas as pd"
   ]
  },
  {
   "cell_type": "code",
   "execution_count": 4,
   "metadata": {},
   "outputs": [],
   "source": [
    "# Function to load data and extract unique city-state pairs\n",
    "def load_and_extract(file_name):\n",
    "    try:\n",
    "        df = pd.read_csv(file_name)\n",
    "        return df[['city', 'state']].drop_duplicates()\n",
    "    except FileNotFoundError:\n",
    "        return pd.DataFrame(columns=['city', 'state'])\n",
    "    except KeyError:\n",
    "        print(f\"KeyError: Check if '{file_name}' contains 'city' and 'state' columns.\")\n",
    "        return pd.DataFrame(columns=['city', 'state'])\n",
    "\n",
    "# Load and extract unique city-state pairs from each dataset\n",
    "companies_unique = load_and_extract('clean-companies.csv')\n",
    "real_estate_unique = load_and_extract('clean-real-estate-listings.csv')\n",
    "fortune_1000_unique = load_and_extract('clean-fortune-1000.csv')\n",
    "\n",
    "# Combine all the unique city-state pairs from different datasets\n",
    "combined_city_state = pd.concat([companies_unique, real_estate_unique, fortune_1000_unique], ignore_index=True)\n",
    "# Remove any duplicates from the combined DataFrame\n",
    "unique_city_state = combined_city_state.drop_duplicates()"
   ]
  },
  {
   "cell_type": "code",
   "execution_count": 5,
   "metadata": {},
   "outputs": [
    {
     "name": "stdout",
     "output_type": "stream",
     "text": [
      "             city    state\n",
      "10291   abbeville  alabama\n",
      "9418   adamsville  alabama\n",
      "19477     addison  alabama\n",
      "20125       adger  alabama\n",
      "19682       akron  alabama\n"
     ]
    }
   ],
   "source": [
    "# Sort by state then city for better organization\n",
    "unique_city_state = unique_city_state.sort_values(by=['state', 'city'])\n",
    "\n",
    "print(unique_city_state.head())"
   ]
  },
  {
   "cell_type": "code",
   "execution_count": 6,
   "metadata": {},
   "outputs": [],
   "source": [
    "unique_city_state.to_csv('importable-city.csv', index=False)"
   ]
  },
  {
   "cell_type": "code",
   "execution_count": 4,
   "metadata": {},
   "outputs": [
    {
     "name": "stdout",
     "output_type": "stream",
     "text": [
      "Original number of rows: 34701\n",
      "Number of rows after removing nulls: 34700\n"
     ]
    }
   ],
   "source": [
    "# Load the CSV file into a DataFrame\n",
    "df = pd.read_csv('importable-city.csv')\n",
    "\n",
    "# Display initial data count for reference\n",
    "print(\"Original number of rows:\", df.shape[0])\n",
    "\n",
    "# Remove rows where either 'city' or 'state' is null\n",
    "df_cleaned = df.dropna(subset=['city', 'state'])\n",
    "\n",
    "# Display data count after removal to verify changes\n",
    "print(\"Number of rows after removing nulls:\", df_cleaned.shape[0])"
   ]
  },
  {
   "cell_type": "code",
   "execution_count": 5,
   "metadata": {},
   "outputs": [],
   "source": [
    "# Save the cleaned DataFrame back to the CSV file\n",
    "df_cleaned.to_csv('importable-city.csv', index=False)"
   ]
  }
 ],
 "metadata": {
  "kernelspec": {
   "display_name": "Python 3",
   "language": "python",
   "name": "python3"
  },
  "language_info": {
   "codemirror_mode": {
    "name": "ipython",
    "version": 3
   },
   "file_extension": ".py",
   "mimetype": "text/x-python",
   "name": "python",
   "nbconvert_exporter": "python",
   "pygments_lexer": "ipython3",
   "version": "3.11.4"
  }
 },
 "nbformat": 4,
 "nbformat_minor": 2
}
