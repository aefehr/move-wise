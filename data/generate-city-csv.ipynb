{
 "cells": [
  {
   "cell_type": "code",
   "execution_count": 5,
   "metadata": {},
   "outputs": [],
   "source": [
    "import pandas as pd\n",
    "import os"
   ]
  },
  {
   "cell_type": "code",
   "execution_count": 6,
   "metadata": {},
   "outputs": [],
   "source": [
    "companies_csv_filename = \"processed-companies.csv\" \n",
    "\n",
    "real_estate_csv_filename = \"processed-real-estate-listings.csv\" \n",
    "\n",
    "# Get the current working directory\n",
    "current_directory = os.getcwd()\n",
    "\n",
    "# Combine the current directory path with the CSV file name to get the full file path\n",
    "companies_dataset_path = os.path.join(current_directory, companies_csv_filename)\n",
    "real_estate_dataset_path = os.path.join(current_directory, real_estate_csv_filename)\n",
    "\n",
    "df_companies = pd.read_csv(companies_dataset_path)\n",
    "df_real_estate = pd.read_csv(companies_dataset_path)"
   ]
  },
  {
   "cell_type": "code",
   "execution_count": 3,
   "metadata": {},
   "outputs": [],
   "source": [
    "# Extract city and state columns\n",
    "real_estate_cities = df_real_estate[['city', 'state']].drop_duplicates()\n",
    "companies_cities = df_companies[['city', 'state']].drop_duplicates()\n",
    "\n",
    "# Combine the dataframes\n",
    "combined_cities = pd.concat([real_estate_cities, companies_cities], ignore_index=True)\n",
    "\n",
    "# Drop duplicates to ensure all city-state pairs are unique\n",
    "unique_cities = combined_cities.drop_duplicates()\n",
    "\n",
    "# Sort by state then city for better organization\n",
    "unique_cities = unique_cities.sort_values(by=['state', 'city'])"
   ]
  },
  {
   "cell_type": "code",
   "execution_count": 4,
   "metadata": {},
   "outputs": [
    {
     "name": "stdout",
     "output_type": "stream",
     "text": [
      "             city    state\n",
      "9725    Abbeville  Alabama\n",
      "19274  Adamsville  Alabama\n",
      "29345     Addison  Alabama\n",
      "29994       Adger  Alabama\n",
      "29551       Akron  Alabama\n"
     ]
    }
   ],
   "source": [
    "# Save to CSV\n",
    "unique_cities.to_csv('city.csv', index=False)\n",
    "\n",
    "print(unique_cities.head()) "
   ]
  },
  {
   "cell_type": "code",
   "execution_count": 9,
   "metadata": {},
   "outputs": [
    {
     "name": "stdout",
     "output_type": "stream",
     "text": [
      "Original number of rows: 35414\n",
      "Number of rows after removing nulls: 35401\n"
     ]
    }
   ],
   "source": [
    "# Get the current working directory\n",
    "current_directory = os.getcwd()\n",
    "\n",
    "# Combine the current directory path with the CSV file name to get the full file path\n",
    "dataset_path = os.path.join(current_directory, 'city.csv')\n",
    "\n",
    "df = pd.read_csv(dataset_path)\n",
    "\n",
    "# Remove rows where 'city' or 'state' is null\n",
    "cleaned_df = df.dropna(subset=['city', 'state'])\n",
    "\n",
    "# Save the cleaned dataframe back to CSV\n",
    "cleaned_df.to_csv('processed-city.csv', index=False)\n",
    "\n",
    "# Print the number of rows before and after cleaning\n",
    "print(f\"Original number of rows: {len(df)}\")\n",
    "print(f\"Number of rows after removing nulls: {len(cleaned_df)}\")"
   ]
  }
 ],
 "metadata": {
  "kernelspec": {
   "display_name": "Python 3",
   "language": "python",
   "name": "python3"
  },
  "language_info": {
   "codemirror_mode": {
    "name": "ipython",
    "version": 3
   },
   "file_extension": ".py",
   "mimetype": "text/x-python",
   "name": "python",
   "nbconvert_exporter": "python",
   "pygments_lexer": "ipython3",
   "version": "3.11.4"
  }
 },
 "nbformat": 4,
 "nbformat_minor": 2
}
