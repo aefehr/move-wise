{
 "cells": [
  {
   "cell_type": "code",
   "execution_count": 1,
   "metadata": {},
   "outputs": [],
   "source": [
    "import pandas as pd"
   ]
  },
  {
   "cell_type": "code",
   "execution_count": 2,
   "metadata": {},
   "outputs": [],
   "source": [
    "df = pd.read_csv(\"cost-of-living.csv\")"
   ]
  },
  {
   "cell_type": "code",
   "execution_count": 3,
   "metadata": {},
   "outputs": [
    {
     "name": "stdout",
     "output_type": "stream",
     "text": [
      "                  City  Cost of Living Index  Rent Index  Groceries Index  \\\n",
      "0    Hamilton, Bermuda                149.02       96.10           157.89   \n",
      "1  Zurich, Switzerland                131.24       69.26           136.14   \n",
      "2   Basel, Switzerland                130.93       49.38           137.07   \n",
      "3     Zug, Switzerland                128.13       72.12           132.61   \n",
      "4  Lugano, Switzerland                123.99       44.99           129.17   \n",
      "\n",
      "   Restaurant Price Index  Local Purchasing Power Index  \n",
      "0                  155.22                         79.43  \n",
      "1                  132.52                        129.79  \n",
      "2                  130.95                        111.53  \n",
      "3                  130.93                        143.40  \n",
      "4                  119.80                        111.96  \n"
     ]
    }
   ],
   "source": [
    "# Remove the \"Rank\" and \"Cost of Living Plus Rent Index\" columns\n",
    "df = df.drop(columns=['Rank', 'Cost of Living Plus Rent Index'])\n",
    "\n",
    "print(df.head())"
   ]
  },
  {
   "cell_type": "code",
   "execution_count": 4,
   "metadata": {},
   "outputs": [
    {
     "name": "stdout",
     "output_type": "stream",
     "text": [
      "                                City  Cost of Living Index  Rent Index  \\\n",
      "10       Honolulu, HI, United States                103.65       65.07   \n",
      "13       New York, NY, United States                100.00      100.00   \n",
      "18  Santa Barbara, CA, United States                 95.01       78.42   \n",
      "20       Berkeley, CA, United States                 94.36       88.22   \n",
      "21  San Francisco, CA, United States                 93.91      108.42   \n",
      "\n",
      "    Groceries Index  Restaurant Price Index  Local Purchasing Power Index  \n",
      "10           114.92                   94.28                         89.24  \n",
      "13           100.00                  100.00                        100.00  \n",
      "18            99.53                   99.41                         93.86  \n",
      "20           106.23                   78.85                         85.78  \n",
      "21            97.05                   93.40                        133.16  \n"
     ]
    }
   ],
   "source": [
    "# Filter out rows where the city is not in the United States\n",
    "df = df[df['City'].str.contains(\", [A-Z]{2}, United States\")]\n",
    "\n",
    "print(df.head())"
   ]
  },
  {
   "cell_type": "code",
   "execution_count": 5,
   "metadata": {},
   "outputs": [],
   "source": [
    "# Split the \"City\" column into \"city\" and \"state\" columns\n",
    "df[['city', 'state', 'country']] = df['City'].str.rsplit(', ', n=2, expand=True)"
   ]
  },
  {
   "cell_type": "code",
   "execution_count": 6,
   "metadata": {},
   "outputs": [
    {
     "name": "stdout",
     "output_type": "stream",
     "text": [
      "    Cost of Living Index  Rent Index  Groceries Index  Restaurant Price Index  \\\n",
      "10                103.65       65.07           114.92                   94.28   \n",
      "13                100.00      100.00           100.00                  100.00   \n",
      "18                 95.01       78.42            99.53                   99.41   \n",
      "20                 94.36       88.22           106.23                   78.85   \n",
      "21                 93.91      108.42            97.05                   93.40   \n",
      "\n",
      "    Local Purchasing Power Index           city state  \n",
      "10                         89.24       Honolulu    HI  \n",
      "13                        100.00       New York    NY  \n",
      "18                         93.86  Santa Barbara    CA  \n",
      "20                         85.78       Berkeley    CA  \n",
      "21                        133.16  San Francisco    CA  \n"
     ]
    }
   ],
   "source": [
    "# Drop the original \"City\" column and the 'country' column as it's not needed anymore\n",
    "df = df.drop(columns=['City', 'country'])\n",
    "\n",
    "print(df.head())"
   ]
  },
  {
   "cell_type": "code",
   "execution_count": 7,
   "metadata": {},
   "outputs": [
    {
     "name": "stdout",
     "output_type": "stream",
     "text": [
      "             city state  Cost of Living Index  Rent Index  Groceries Index  \\\n",
      "10       Honolulu    HI                103.65       65.07           114.92   \n",
      "13       New York    NY                100.00      100.00           100.00   \n",
      "18  Santa Barbara    CA                 95.01       78.42            99.53   \n",
      "20       Berkeley    CA                 94.36       88.22           106.23   \n",
      "21  San Francisco    CA                 93.91      108.42            97.05   \n",
      "\n",
      "    Restaurant Price Index  Local Purchasing Power Index  \n",
      "10                   94.28                         89.24  \n",
      "13                  100.00                        100.00  \n",
      "18                   99.41                         93.86  \n",
      "20                   78.85                         85.78  \n",
      "21                   93.40                        133.16  \n"
     ]
    }
   ],
   "source": [
    "# Rearrange columns so \"city\" and \"state\" are first\n",
    "columns = ['city', 'state'] + [col for col in df.columns if col not in ['city', 'state']]\n",
    "df = df[columns]\n",
    "\n",
    "print(df.head())"
   ]
  },
  {
   "cell_type": "code",
   "execution_count": 8,
   "metadata": {},
   "outputs": [
    {
     "name": "stdout",
     "output_type": "stream",
     "text": [
      "             city       state  Cost of Living Index  Rent Index  \\\n",
      "10       Honolulu      Hawaii                103.65       65.07   \n",
      "13       New York    New York                100.00      100.00   \n",
      "18  Santa Barbara  California                 95.01       78.42   \n",
      "20       Berkeley  California                 94.36       88.22   \n",
      "21  San Francisco  California                 93.91      108.42   \n",
      "\n",
      "    Groceries Index  Restaurant Price Index  Local Purchasing Power Index  \n",
      "10           114.92                   94.28                         89.24  \n",
      "13           100.00                  100.00                        100.00  \n",
      "18            99.53                   99.41                         93.86  \n",
      "20           106.23                   78.85                         85.78  \n",
      "21            97.05                   93.40                        133.16  \n"
     ]
    }
   ],
   "source": [
    "# State abbreviations to full names mapping\n",
    "state_mapping = {\n",
    "    'AL': 'Alabama', 'AK': 'Alaska', 'AZ': 'Arizona', 'AR': 'Arkansas', 'CA': 'California',\n",
    "    'CO': 'Colorado', 'CT': 'Connecticut', 'DE': 'Delaware', 'DC' : 'District of Columbia', 'FL': 'Florida', 'GA': 'Georgia',\n",
    "    'HI': 'Hawaii', 'ID': 'Idaho', 'IL': 'Illinois', 'IN': 'Indiana', 'IA': 'Iowa',\n",
    "    'KS': 'Kansas', 'KY': 'Kentucky', 'LA': 'Louisiana', 'ME': 'Maine', 'MD': 'Maryland',\n",
    "    'MA': 'Massachusetts', 'MI': 'Michigan', 'MN': 'Minnesota', 'MS': 'Mississippi',\n",
    "    'MO': 'Missouri', 'MT': 'Montana', 'NE': 'Nebraska', 'NV': 'Nevada', 'NH': 'New Hampshire',\n",
    "    'NJ': 'New Jersey', 'NM': 'New Mexico', 'NY': 'New York', 'NC': 'North Carolina',\n",
    "    'ND': 'North Dakota', 'OH': 'Ohio', 'OK': 'Oklahoma', 'OR': 'Oregon', 'PA': 'Pennsylvania',\n",
    "    'RI': 'Rhode Island', 'SC': 'South Carolina', 'SD': 'South Dakota', 'TN': 'Tennessee',\n",
    "    'TX': 'Texas', 'UT': 'Utah', 'VT': 'Vermont', 'VA': 'Virginia', 'WA': 'Washington',\n",
    "    'WV': 'West Virginia', 'WI': 'Wisconsin', 'WY': 'Wyoming'\n",
    "}\n",
    "\n",
    "# Replace state abbreviations with full names\n",
    "df['state'] = df['state'].map(state_mapping)\n",
    "\n",
    "print(df.head())"
   ]
  },
  {
   "cell_type": "code",
   "execution_count": 9,
   "metadata": {},
   "outputs": [],
   "source": [
    "# Remove rows \n",
    "df = df.dropna(subset=['city', 'state'])"
   ]
  },
  {
   "cell_type": "code",
   "execution_count": 10,
   "metadata": {},
   "outputs": [
    {
     "name": "stdout",
     "output_type": "stream",
     "text": [
      "             city       state  Cost of Living Index  Rent Index  \\\n",
      "10       honolulu      hawaii                103.65       65.07   \n",
      "13       new york    new york                100.00      100.00   \n",
      "18  santa barbara  california                 95.01       78.42   \n",
      "20       berkeley  california                 94.36       88.22   \n",
      "21  san francisco  california                 93.91      108.42   \n",
      "\n",
      "    Groceries Index  Restaurant Price Index  Local Purchasing Power Index  \n",
      "10           114.92                   94.28                         89.24  \n",
      "13           100.00                  100.00                        100.00  \n",
      "18            99.53                   99.41                         93.86  \n",
      "20           106.23                   78.85                         85.78  \n",
      "21            97.05                   93.40                        133.16  \n"
     ]
    }
   ],
   "source": [
    "# Convert 'city' and 'state' columns to lowercase\n",
    "df['city'] = df['city'].str.lower()\n",
    "df['state'] = df['state'].str.lower()\n",
    "\n",
    "print(df.head())"
   ]
  },
  {
   "cell_type": "code",
   "execution_count": 11,
   "metadata": {},
   "outputs": [],
   "source": [
    "# Function to convert \"saint \" to \"st. \" in city names\n",
    "def convert_saint_to_st(city_name):\n",
    "    if isinstance(city_name, str):\n",
    "        # Replace \"saint \" with \"st. \" (case-sensitive)\n",
    "        return city_name.replace(\"saint \", \"st. \")\n",
    "    return city_name\n",
    "\n",
    "# Apply the function to the 'city' column\n",
    "df['city'] = df['city'].apply(convert_saint_to_st)"
   ]
  },
  {
   "cell_type": "code",
   "execution_count": 12,
   "metadata": {},
   "outputs": [
    {
     "name": "stdout",
     "output_type": "stream",
     "text": [
      "             city       state  cost_of_living_index  rent_index  \\\n",
      "10       honolulu      hawaii                103.65       65.07   \n",
      "13       new york    new york                100.00      100.00   \n",
      "18  santa barbara  california                 95.01       78.42   \n",
      "20       berkeley  california                 94.36       88.22   \n",
      "21  san francisco  california                 93.91      108.42   \n",
      "\n",
      "    groceries_index  restaurant_price_index  local_purchasing_power_index  \n",
      "10           114.92                   94.28                         89.24  \n",
      "13           100.00                  100.00                        100.00  \n",
      "18            99.53                   99.41                         93.86  \n",
      "20           106.23                   78.85                         85.78  \n",
      "21            97.05                   93.40                        133.16  \n"
     ]
    }
   ],
   "source": [
    "# Replace spaces with underscores and convert to lowercase for all column names\n",
    "df.columns = [col.lower().replace(' ', '_') for col in df.columns]\n",
    "\n",
    "print(df.head())"
   ]
  },
  {
   "cell_type": "code",
   "execution_count": 13,
   "metadata": {},
   "outputs": [],
   "source": [
    "# Save the modified dataframe to a new CSV file\n",
    "df.to_csv(\"clean-cost-of-living.csv\", index=False)"
   ]
  },
  {
   "cell_type": "code",
   "execution_count": 14,
   "metadata": {},
   "outputs": [
    {
     "name": "stdout",
     "output_type": "stream",
     "text": [
      "Empty DataFrame\n",
      "Columns: [city, state, cost_of_living_index, rent_index, groceries_index, restaurant_price_index, local_purchasing_power_index, city_id]\n",
      "Index: []\n",
      "            city       state  cost_of_living_index  rent_index  \\\n",
      "0       honolulu      hawaii                103.65       65.07   \n",
      "1       new york    new york                100.00      100.00   \n",
      "2  santa barbara  california                 95.01       78.42   \n",
      "3       berkeley  california                 94.36       88.22   \n",
      "4  san francisco  california                 93.91      108.42   \n",
      "\n",
      "   groceries_index  restaurant_price_index  local_purchasing_power_index  \\\n",
      "0           114.92                   94.28                         89.24   \n",
      "1           100.00                  100.00                        100.00   \n",
      "2            99.53                   99.41                         93.86   \n",
      "3           106.23                   78.85                         85.78   \n",
      "4            97.05                   93.40                        133.16   \n",
      "\n",
      "   city_id  \n",
      "0     5958  \n",
      "1    20587  \n",
      "2     3074  \n",
      "3     1915  \n",
      "4     3045  \n"
     ]
    }
   ],
   "source": [
    "# Generate csv to import into cost_of_living table in database\n",
    "\n",
    "# Load the cost of living data\n",
    "cost_of_living_df = pd.read_csv(\"clean-cost-of-living.csv\")\n",
    "\n",
    "# Load city data\n",
    "city_df = pd.read_csv(\"city-table.csv\")\n",
    "city_df.rename(columns={'id': 'city_id'}, inplace=True)\n",
    "\n",
    "# Merge the DataFrames to map city_id based on city and state\n",
    "merged_df = pd.merge(cost_of_living_df, city_df, on=['city', 'state'], how='left')  \n",
    "\n",
    "# Check for any entries that did not get a city_id\n",
    "print(merged_df[merged_df['city_id'].isnull()])\n",
    "\n",
    "print(merged_df.head())"
   ]
  },
  {
   "cell_type": "code",
   "execution_count": 15,
   "metadata": {},
   "outputs": [
    {
     "name": "stdout",
     "output_type": "stream",
     "text": [
      "   city_id           city       state  cost_of_living_index  rent_index  \\\n",
      "0     5958       honolulu      hawaii                103.65       65.07   \n",
      "1    20587       new york    new york                100.00      100.00   \n",
      "2     3074  santa barbara  california                 95.01       78.42   \n",
      "3     1915       berkeley  california                 94.36       88.22   \n",
      "4     3045  san francisco  california                 93.91      108.42   \n",
      "\n",
      "   groceries_index  restaurant_price_index  local_purchasing_power_index  \n",
      "0           114.92                   94.28                         89.24  \n",
      "1           100.00                  100.00                        100.00  \n",
      "2            99.53                   99.41                         93.86  \n",
      "3           106.23                   78.85                         85.78  \n",
      "4            97.05                   93.40                        133.16  \n"
     ]
    }
   ],
   "source": [
    "# Reorder columns to make 'city_id' the first column\n",
    "# Get a list of all columns, then filter out 'city_id'\n",
    "cols = merged_df.columns.tolist()\n",
    "cols = ['city_id'] + [col for col in cols if col != 'city_id']\n",
    "\n",
    "# Reassign reordered columns back to the DataFrame\n",
    "merged_df = merged_df[cols]\n",
    "\n",
    "print(merged_df.head())"
   ]
  },
  {
   "cell_type": "code",
   "execution_count": 16,
   "metadata": {},
   "outputs": [
    {
     "name": "stdout",
     "output_type": "stream",
     "text": [
      "   city_id  cost_of_living_index  rent_index  groceries_index  \\\n",
      "0     5958                103.65       65.07           114.92   \n",
      "1    20587                100.00      100.00           100.00   \n",
      "2     3074                 95.01       78.42            99.53   \n",
      "3     1915                 94.36       88.22           106.23   \n",
      "4     3045                 93.91      108.42            97.05   \n",
      "\n",
      "   restaurant_price_index  local_purchasing_power_index  \n",
      "0                   94.28                         89.24  \n",
      "1                  100.00                        100.00  \n",
      "2                   99.41                         93.86  \n",
      "3                   78.85                         85.78  \n",
      "4                   93.40                        133.16  \n"
     ]
    }
   ],
   "source": [
    "# Drop the city and state columns as they are no longer needed\n",
    "merged_df.drop(columns=['city', 'state'], inplace=True)\n",
    "\n",
    "print(merged_df.head())"
   ]
  },
  {
   "cell_type": "code",
   "execution_count": 17,
   "metadata": {},
   "outputs": [],
   "source": [
    "# Save the updated DataFrame to a new CSV file, ready for database import\n",
    "merged_df.to_csv('importable-cost-of-living.csv', index=False)"
   ]
  }
 ],
 "metadata": {
  "kernelspec": {
   "display_name": "Python 3",
   "language": "python",
   "name": "python3"
  },
  "language_info": {
   "codemirror_mode": {
    "name": "ipython",
    "version": 3
   },
   "file_extension": ".py",
   "mimetype": "text/x-python",
   "name": "python",
   "nbconvert_exporter": "python",
   "pygments_lexer": "ipython3",
   "version": "3.11.4"
  }
 },
 "nbformat": 4,
 "nbformat_minor": 2
}
